{
 "cells": [
  {
   "cell_type": "code",
   "execution_count": 1,
   "metadata": {},
   "outputs": [],
   "source": [
    "import pyspark\n",
    "from pyspark.sql import SparkSession\n",
    "from pyspark.sql.types import *\n",
    "from pyspark.sql.functions import col, to_date\n",
    "spark = SparkSession.builder.getOrCreate()"
   ]
  },
  {
   "cell_type": "code",
   "execution_count": 2,
   "metadata": {},
   "outputs": [],
   "source": [
    "# Enforce data types\n",
    "pets_schema = StructType([\n",
    "    StructField(\"PetID\", StringType()),\n",
    "    StructField(\"Name\", StringType()),\n",
    "    StructField(\"Kind\", StringType()),\n",
    "    StructField(\"Gender\", StringType()),\n",
    "    StructField(\"Age\", IntegerType()),\n",
    "    StructField(\"OwnerID\", StringType())])\n",
    "\n",
    "owners_schema = StructType([\n",
    "    StructField(\"OwnerID\", StringType()),\n",
    "    StructField(\"Name\", StringType()),\n",
    "    StructField(\"Surname\", StringType()),\n",
    "    StructField(\"StreetAddress\", StringType()),\n",
    "    StructField(\"City\", StringType()),\n",
    "    StructField(\"State\", StringType()),\n",
    "    StructField(\"StateFull\", StringType()),\n",
    "    StructField(\"ZipCode\", StringType())])\n",
    "\n",
    "proceduresdetails_schema = StructType([\n",
    "    StructField(\"ProcedureType\", StringType()),\n",
    "    StructField(\"ProcedureSubCode\", StringType()),\n",
    "    StructField(\"Description\", StringType()),\n",
    "    StructField(\"Price\", DoubleType())])\n",
    "\n",
    "procedureshistory_schema = StructType([\n",
    "    StructField(\"PetID\", StringType()),\n",
    "    StructField(\"ProcedureDate\", StringType()),\n",
    "    StructField(\"ProcedureType\", StringType()),\n",
    "    StructField(\"ProcedureSubCode\", StringType())])"
   ]
  },
  {
   "cell_type": "code",
   "execution_count": 3,
   "metadata": {},
   "outputs": [],
   "source": [
    "# Create Spark DataFrames\n",
    "pets = spark.read.csv('data/Pets.csv', header=True, schema=pets_schema)\n",
    "owners = spark.read.csv('data/Owners.csv', header=True, schema=owners_schema)\n",
    "proceduresdetails = spark.read.csv('data/ProceduresDetails.csv', header=True, schema=proceduresdetails_schema)\n",
    "procedureshistory = spark.read.csv('data/ProceduresHistory.csv', header=True, schema=procedureshistory_schema)\n",
    "\n",
    "# Change data type of the ProcedureDate as it couldn't be done in the schema options\n",
    "procedureshistory = procedureshistory.withColumn('ProcedureDate', \n",
    "                   to_date(col('ProcedureDate'), 'yyyy/MM/dd'))"
   ]
  },
  {
   "cell_type": "code",
   "execution_count": 17,
   "metadata": {},
   "outputs": [],
   "source": [
    "# Change the column names to lowercase\n",
    "def col_to_lowercase(df):\n",
    "    for col in df.columns:\n",
    "        new_col = col.lower()\n",
    "        df = df.withColumnRenamed(col, new_col)\n",
    "    return df\n",
    "pets = col_to_lowercase(pets)\n",
    "owners = col_to_lowercase(owners)\n",
    "proceduresdetails = col_to_lowercase(proceduresdetails)\n",
    "procedureshistory = col_to_lowercase(procedureshistory)"
   ]
  },
  {
   "cell_type": "code",
   "execution_count": null,
   "metadata": {},
   "outputs": [],
   "source": []
  }
 ],
 "metadata": {
  "kernelspec": {
   "display_name": "Python 3",
   "language": "python",
   "name": "python3"
  },
  "language_info": {
   "codemirror_mode": {
    "name": "ipython",
    "version": 3
   },
   "file_extension": ".py",
   "mimetype": "text/x-python",
   "name": "python",
   "nbconvert_exporter": "python",
   "pygments_lexer": "ipython3",
   "version": "3.7.0-final"
  }
 },
 "nbformat": 4,
 "nbformat_minor": 2
}