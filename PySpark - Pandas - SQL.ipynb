{
 "cells": [
  {
   "cell_type": "code",
   "execution_count": null,
   "metadata": {},
   "outputs": [],
   "source": [
    "# SET UP OF DATA"
   ]
  },
  {
   "cell_type": "markdown",
   "metadata": {},
   "source": [
    "# Set up PySpark"
   ]
  },
  {
   "cell_type": "code",
   "execution_count": null,
   "metadata": {},
   "outputs": [],
   "source": [
    "import pyspark\n",
    "from pyspark.sql import SparkSession\n",
    "from pyspark.sql.types import *\n",
    "from pyspark.sql.functions import col, to_date\n",
    "spark = SparkSession.builder.getOrCreate()"
   ]
  },
  {
   "cell_type": "code",
   "execution_count": null,
   "metadata": {},
   "outputs": [],
   "source": [
    "# Enforce data types\n",
    "pets_schema = StructType([\n",
    "    StructField(\"PetID\", StringType()),\n",
    "    StructField(\"Name\", StringType()),\n",
    "    StructField(\"Kind\", StringType()),\n",
    "    StructField(\"Gender\", StringType()),\n",
    "    StructField(\"Age\", IntegerType()),\n",
    "    StructField(\"OwnerID\", StringType())])\n",
    "\n",
    "owners_schema = StructType([\n",
    "    StructField(\"OwnerID\", StringType()),\n",
    "    StructField(\"Name\", StringType()),\n",
    "    StructField(\"Surname\", StringType()),\n",
    "    StructField(\"StreetAddress\", StringType()),\n",
    "    StructField(\"City\", StringType()),\n",
    "    StructField(\"State\", StringType()),\n",
    "    StructField(\"StateFull\", StringType()),\n",
    "    StructField(\"ZipCode\", StringType())])\n",
    "\n",
    "proceduresdetails_schema = StructType([\n",
    "    StructField(\"ProcedureType\", StringType()),\n",
    "    StructField(\"ProcedureSubCode\", StringType()),\n",
    "    StructField(\"Description\", StringType()),\n",
    "    StructField(\"Price\", DoubleType())])\n",
    "\n",
    "procedureshistory_schema = StructType([\n",
    "    StructField(\"PetID\", StringType()),\n",
    "    StructField(\"ProcedureDate\", StringType()),\n",
    "    StructField(\"ProcedureType\", StringType()),\n",
    "    StructField(\"ProcedureSubCode\", StringType())])"
   ]
  },
  {
   "cell_type": "code",
   "execution_count": 34,
   "metadata": {},
   "outputs": [],
   "source": [
    "# Create Spark DataFrames\n",
    "ps_pets = spark.read.csv('data/Pets.csv', header=True, schema=pets_schema)\n",
    "ps_owners = spark.read.csv('data/Owners.csv', header=True, schema=owners_schema)\n",
    "ps_proceduresdetails = spark.read.csv('data/ProceduresDetails.csv', header=True, schema=proceduresdetails_schema)\n",
    "ps_procedureshistory = spark.read.csv('data/ProceduresHistory.csv', header=True, schema=procedureshistory_schema)\n",
    "\n",
    "# Change data type of the ProcedureDate as it couldn't be done in the schema options\n",
    "ps_procedureshistory = ps_procedureshistory.withColumn('ProcedureDate', \n",
    "                   to_date(col('ProcedureDate'), 'yyyy/MM/dd'))"
   ]
  },
  {
   "cell_type": "code",
   "execution_count": 35,
   "metadata": {},
   "outputs": [],
   "source": [
    "# Change the column names to lowercase\n",
    "def col_to_lowercase(df):\n",
    "    for col in df.columns:\n",
    "        new_col = col.lower()\n",
    "        df = df.withColumnRenamed(col, new_col)\n",
    "    return df\n",
    "ps_pets = col_to_lowercase(ps_pets)\n",
    "ps_owners = col_to_lowercase(ps_owners)\n",
    "ps_proceduresdetails = col_to_lowercase(ps_proceduresdetails)\n",
    "ps_procedureshistory = col_to_lowercase(ps_procedureshistory)"
   ]
  },
  {
   "cell_type": "markdown",
   "metadata": {},
   "source": [
    "# Set up PostgreSQL"
   ]
  },
  {
   "cell_type": "code",
   "execution_count": null,
   "metadata": {},
   "outputs": [],
   "source": [
    "import psycopg2\n",
    "import pandas as pd\n",
    "from db_creds import creds"
   ]
  },
  {
   "cell_type": "code",
   "execution_count": null,
   "metadata": {},
   "outputs": [],
   "source": [
    "class DataBase:\n",
    "    def __init__(self, host, dbname, username, password, port):\n",
    "        self.host = host \n",
    "        self.port = port \n",
    "        self.dbname = dbname \n",
    "        self.username = username \n",
    "        self.password = password \n",
    "    \n",
    "    def __connect__(self):\n",
    "        \"\"\"Opens connector class and initiates cursor\"\"\"\n",
    "        self.con = psycopg2.connect(host=self.host, port=self.port, user=self.username, password=self.password, \n",
    "                                                 database=self.dbname) \n",
    "        self.cur = self.con.cursor()\n",
    "\n",
    "    def __disconnect__(self):\n",
    "        \"\"\"Commits any changes to the database and closes connection\"\"\"\n",
    "        self.con.commit()\n",
    "        self.con.close()\n",
    "        \n",
    "    def conn(self):\n",
    "        self.con = psycopg2.connect(host=self.host, port=self.port, user=self.username, password=self.password, \n",
    "                                                 database=self.dbname) \n",
    "        return self.con\n",
    "\n",
    "    def fetch(self, sql, variables=None):\n",
    "        \"\"\"Connects to database, fetches data specific to sql query, then disconnects from database\"\"\"\n",
    "        self.__connect__()\n",
    "        try:\n",
    "            self.cur.execute(sql, variables)\n",
    "            result = self.cur.fetchall()\n",
    "            return result\n",
    "        except Exception as e:\n",
    "            print (e)\n",
    "        finally:\n",
    "            self.__disconnect__()\n",
    "        \n",
    "\n",
    "    def execute(self, sql, variables=None):\n",
    "        \"\"\"Connects to database, executes sql query, along with any variables, then disconnects from database\"\"\"\n",
    "        self.__connect__()\n",
    "        try:\n",
    "            self.cur.execute(sql, variables)\n",
    "        except Exception as e:\n",
    "            print (e)\n",
    "        finally:\n",
    "            self.__disconnect__()\n",
    "            \n",
    "    def get_cols(self, table, details='no'):\n",
    "        data = self.fetch(\"\"\"\n",
    "                SELECT *\n",
    "          FROM information_schema.columns\n",
    "        where table_schema = 'public'\n",
    "             ;\n",
    "                \"\"\")\n",
    "        cols = []\n",
    "        if details == 'yes':\n",
    "            for i in data:\n",
    "                if i[2:][0] == table:\n",
    "                    print (i[2:][1], i[2:][5], i[2:][6])\n",
    "        else:\n",
    "            for i in data:\n",
    "                if i[2:][0] == table:\n",
    "                    cols.append(i[2:][1])\n",
    "            str_cols = ', '.join(cols)\n",
    "            return str_cols\n",
    "    \n",
    "    def get_tables(self):\n",
    "        return self.fetch('''\n",
    "            SELECT table_name\n",
    "            FROM information_schema.tables\n",
    "            WHERE table_schema = 'public'\n",
    "            ORDER BY table_name;\n",
    "            ''')"
   ]
  },
  {
   "cell_type": "code",
   "execution_count": null,
   "metadata": {},
   "outputs": [],
   "source": [
    "# Create database connection\n",
    "username = creds['username']\n",
    "password = creds['password']\n",
    "host = creds['host']\n",
    "dbname = creds['dbname']\n",
    "port = creds['port']\n",
    "db = DataBase(host, dbname, username, password, port)"
   ]
  },
  {
   "cell_type": "code",
   "execution_count": null,
   "metadata": {},
   "outputs": [],
   "source": [
    "# Create pets table\n",
    "db.execute('''\n",
    "    CREATE TABLE IF NOT EXISTS pets (\n",
    "    petid varchar,\n",
    "    name varchar,\n",
    "    kind varchar,\n",
    "    gender varchar,\n",
    "    age int,\n",
    "    ownerid varchar\n",
    ")\n",
    "''')"
   ]
  },
  {
   "cell_type": "code",
   "execution_count": null,
   "metadata": {},
   "outputs": [],
   "source": [
    "# Create owners owners\n",
    "db.execute('''\n",
    "CREATE TABLE IF NOT EXISTS owners (\n",
    "    ownerid varchar,\n",
    "    name varchar,\n",
    "    surname varchar,\n",
    "    streetaddress varchar,\n",
    "    city varchar,\n",
    "    state varchar(2),\n",
    "    statefull varchar,\n",
    "    zipcode varchar\n",
    ")\n",
    "''')"
   ]
  },
  {
   "cell_type": "code",
   "execution_count": null,
   "metadata": {},
   "outputs": [],
   "source": [
    "# Create owners proceduredetails\n",
    "db.execute('''\n",
    "CREATE TABLE IF NOT EXISTS proceduresdetails (\n",
    "    proceduretype varchar,\n",
    "    proceduresubcode varchar,\n",
    "    description varchar,\n",
    "    price float\n",
    ")\n",
    "''')"
   ]
  },
  {
   "cell_type": "code",
   "execution_count": null,
   "metadata": {},
   "outputs": [],
   "source": [
    "# Create owners prodecurehistory\n",
    "db.execute('''\n",
    "CREATE TABLE IF NOT EXISTS procedureshistory (\n",
    "    petid varchar,\n",
    "    proceduredate date,\n",
    "    proceduretype varchar,\n",
    "    proceduresubcode varchar\n",
    ")\n",
    "''')"
   ]
  },
  {
   "cell_type": "code",
   "execution_count": null,
   "metadata": {},
   "outputs": [],
   "source": [
    "# Check tables have been created\n",
    "db.get_tables()"
   ]
  },
  {
   "cell_type": "markdown",
   "metadata": {},
   "source": [
    "## With COPY statement if you have superuser rights on Postgres"
   ]
  },
  {
   "cell_type": "code",
   "execution_count": null,
   "metadata": {},
   "outputs": [],
   "source": [
    "# Copy pets data\n",
    "db.execute('''\n",
    "    COPY pets FROM 'data/Pets.csv' DELIMITER ',' CSV HEADER\n",
    "''')"
   ]
  },
  {
   "cell_type": "code",
   "execution_count": null,
   "metadata": {},
   "outputs": [],
   "source": [
    "# Copy owners data\n",
    "db.execute('''\n",
    "    COPY owners FROM 'data/Owners.csv' DELIMITER ',' CSV HEADER\n",
    "''')"
   ]
  },
  {
   "cell_type": "code",
   "execution_count": null,
   "metadata": {},
   "outputs": [],
   "source": [
    "# Copy proceduredetails data\n",
    "db.execute('''\n",
    "    COPY proceduresdetails FROM 'data/ProceduresDetails.csv' DELIMITER ',' CSV HEADER\n",
    "''')"
   ]
  },
  {
   "cell_type": "code",
   "execution_count": null,
   "metadata": {},
   "outputs": [],
   "source": [
    "# Copy procedurehistory data\n",
    "db.execute('''\n",
    "    COPY procedureshistory FROM 'data/ProceduresHistory.csv' DELIMITER ',' CSV HEADER\n",
    "''')"
   ]
  },
  {
   "cell_type": "markdown",
   "metadata": {},
   "source": [
    "## With pandas.to_csv() "
   ]
  },
  {
   "cell_type": "markdown",
   "metadata": {},
   "source": [
    "An alternative if you do not have superuser access to your Postgres database"
   ]
  },
  {
   "cell_type": "code",
   "execution_count": null,
   "metadata": {},
   "outputs": [],
   "source": [
    "from sqlalchemy import create_engine\n",
    "engine = create_engine(f'postgresql+psycopg2://{username}:{password}@{host}:{port}/{dbname}')"
   ]
  },
  {
   "cell_type": "code",
   "execution_count": null,
   "metadata": {},
   "outputs": [],
   "source": [
    "# Create pandas DataFrames\n",
    "pets = pd.read_csv('data/Pets.csv')#, dtype={'OwnerID':'object'})\n",
    "owners = pd.read_csv('data/Owners.csv')\n",
    "proceduresdetails = pd.read_csv('data/ProceduresDetails.csv')\n",
    "procedureshistory = pd.read_csv('data/ProceduresHistory.csv')"
   ]
  },
  {
   "cell_type": "code",
   "execution_count": null,
   "metadata": {},
   "outputs": [],
   "source": [
    "# Rename the columns to lower case to match database column names\n",
    "pets = pets.rename(str.lower, axis='columns')\n",
    "owners = owners.rename(str.lower, axis='columns')\n",
    "proceduresdetails = proceduresdetails.rename(str.lower, axis='columns')\n",
    "procedureshistory = procedureshistory.rename(str.lower, axis='columns')"
   ]
  },
  {
   "cell_type": "code",
   "execution_count": null,
   "metadata": {},
   "outputs": [],
   "source": [
    "# Copy data to database\n",
    "pets.to_sql('pets', engine, if_exists='append', index=False)\n",
    "owners.to_sql('owners', engine, if_exists='append', index=False)\n",
    "proceduresdetails.to_sql('proceduresdetails', engine, if_exists='append', index=False)\n",
    "procedureshistory.to_sql('procedureshistory', engine, if_exists='append', index=False)"
   ]
  },
  {
   "cell_type": "code",
   "execution_count": null,
   "metadata": {},
   "outputs": [],
   "source": [
    "# Verify # of records in each table\n",
    "tables = [['pets', pets],['owners', owners],['proceduresdetails', proceduresdetails],['procedureshistory', procedureshistory]]\n",
    "for table in tables:\n",
    "    table_name = table[0]\n",
    "    db_count = db.fetch(f'''\n",
    "        SELECT COUNT(*) FROM {table_name}\n",
    "    ''')[0][0]\n",
    "    if db_count == len(table[1]):\n",
    "        print (f'{table_name} table verified.')\n",
    "    else:\n",
    "        print (f'{table_name} Error: {db_count} records in SQL table & {len(table[1])} records in Pandas dataframe.')"
   ]
  },
  {
   "cell_type": "markdown",
   "metadata": {},
   "source": [
    "# Pandas Setup"
   ]
  },
  {
   "cell_type": "code",
   "execution_count": null,
   "metadata": {},
   "outputs": [],
   "source": [
    "import pandas as pd"
   ]
  },
  {
   "cell_type": "code",
   "execution_count": null,
   "metadata": {},
   "outputs": [],
   "source": [
    "# Create pandas DataFrames\n",
    "pd_pets = pd.read_csv('data/Pets.csv', dtype={'OwnerID':'object'})\n",
    "pd_owners = pd.read_csv('data/Owners.csv', dtype={'OwnerID':'object', 'ZipCode':'object'})\n",
    "pd_proceduresdetails = pd.read_csv('data/ProceduresDetails.csv', dtype={'ProcedureSubCode':'object'})\n",
    "pd_procedureshistory = pd.read_csv('data/ProceduresHistory.csv', parse_dates=['ProcedureDate'], dtype={'ProcedureSubCode':'object'})"
   ]
  },
  {
   "cell_type": "code",
   "execution_count": null,
   "metadata": {},
   "outputs": [],
   "source": [
    "# Rename the columns to lower case to match database column names\n",
    "pd_pets = pd_pets.rename(str.lower, axis='columns')\n",
    "pd_owners = pd_owners.rename(str.lower, axis='columns')\n",
    "pd_proceduresdetails = pd_proceduresdetails.rename(str.lower, axis='columns')\n",
    "pd_procedureshistory = pd_procedureshistory.rename(str.lower, axis='columns')"
   ]
  },
  {
   "cell_type": "code",
   "execution_count": null,
   "metadata": {},
   "outputs": [],
   "source": [
    "# ensure all data types are correct\n",
    "print (pets.dtypes)\n",
    "print ('---------------')\n",
    "print (owners.dtypes)\n",
    "print ('---------------')\n",
    "print (proceduresdetails.dtypes)\n",
    "print ('---------------')\n",
    "print (procedureshistory.dtypes)"
   ]
  },
  {
   "cell_type": "markdown",
   "metadata": {},
   "source": [
    "# START OF COMPARISON"
   ]
  },
  {
   "cell_type": "markdown",
   "metadata": {},
   "source": [
    "## SELECT Statement"
   ]
  },
  {
   "cell_type": "code",
   "execution_count": 38,
   "metadata": {},
   "outputs": [
    {
     "output_type": "execute_result",
     "data": {
      "text/plain": "[('6049',\n  'Debbie',\n  'Metivier',\n  '315 Goff Avenue',\n  'Grand Rapids',\n  'MI',\n  'Michigan',\n  '49503'),\n ('2863',\n  'John',\n  'Sebastian',\n  '3221 Perry Street',\n  'Davison',\n  'MI',\n  'Michigan',\n  '48423'),\n ('3518',\n  'Connie',\n  'Pauley',\n  '1539 Cunningham Court',\n  'Bloomfield Township',\n  'MI',\n  'Michigan',\n  '48302')]"
     },
     "metadata": {},
     "execution_count": 38
    }
   ],
   "source": [
    "# SQL\n",
    "sql = '''\n",
    "    SELECT * FROM owners\n",
    "    LIMIT 3\n",
    "'''\n",
    "db. fetch(sql)"
   ]
  },
  {
   "cell_type": "code",
   "execution_count": 40,
   "metadata": {},
   "outputs": [
    {
     "output_type": "execute_result",
     "data": {
      "text/plain": "  ownerid    name    surname          streetaddress                 city  \\\n0    6049  Debbie   Metivier        315 Goff Avenue         Grand Rapids   \n1    2863    John  Sebastian      3221 Perry Street              Davison   \n2    3518  Connie     Pauley  1539 Cunningham Court  Bloomfield Township   \n\n  state statefull zipcode  \n0    MI  Michigan   49503  \n1    MI  Michigan   48423  \n2    MI  Michigan   48302  ",
      "text/html": "<div>\n<style scoped>\n    .dataframe tbody tr th:only-of-type {\n        vertical-align: middle;\n    }\n\n    .dataframe tbody tr th {\n        vertical-align: top;\n    }\n\n    .dataframe thead th {\n        text-align: right;\n    }\n</style>\n<table border=\"1\" class=\"dataframe\">\n  <thead>\n    <tr style=\"text-align: right;\">\n      <th></th>\n      <th>ownerid</th>\n      <th>name</th>\n      <th>surname</th>\n      <th>streetaddress</th>\n      <th>city</th>\n      <th>state</th>\n      <th>statefull</th>\n      <th>zipcode</th>\n    </tr>\n  </thead>\n  <tbody>\n    <tr>\n      <th>0</th>\n      <td>6049</td>\n      <td>Debbie</td>\n      <td>Metivier</td>\n      <td>315 Goff Avenue</td>\n      <td>Grand Rapids</td>\n      <td>MI</td>\n      <td>Michigan</td>\n      <td>49503</td>\n    </tr>\n    <tr>\n      <th>1</th>\n      <td>2863</td>\n      <td>John</td>\n      <td>Sebastian</td>\n      <td>3221 Perry Street</td>\n      <td>Davison</td>\n      <td>MI</td>\n      <td>Michigan</td>\n      <td>48423</td>\n    </tr>\n    <tr>\n      <th>2</th>\n      <td>3518</td>\n      <td>Connie</td>\n      <td>Pauley</td>\n      <td>1539 Cunningham Court</td>\n      <td>Bloomfield Township</td>\n      <td>MI</td>\n      <td>Michigan</td>\n      <td>48302</td>\n    </tr>\n  </tbody>\n</table>\n</div>"
     },
     "metadata": {},
     "execution_count": 40
    }
   ],
   "source": [
    "# Pands\n",
    "pd_owners.head(3)"
   ]
  },
  {
   "cell_type": "code",
   "execution_count": 41,
   "metadata": {},
   "outputs": [
    {
     "output_type": "stream",
     "name": "stdout",
     "text": "+-------+------+---------+---------------------+-------------------+-----+---------+-------+\n|ownerid|name  |surname  |streetaddress        |city               |state|statefull|zipcode|\n+-------+------+---------+---------------------+-------------------+-----+---------+-------+\n|6049   |Debbie|Metivier |315 Goff Avenue      |Grand Rapids       |MI   |Michigan |49503  |\n|2863   |John  |Sebastian|3221 Perry Street    |Davison            |MI   |Michigan |48423  |\n|3518   |Connie|Pauley   |1539 Cunningham Court|Bloomfield Township|MI   |Michigan |48302  |\n+-------+------+---------+---------------------+-------------------+-----+---------+-------+\nonly showing top 3 rows\n\n"
    }
   ],
   "source": [
    "# PySpark\n",
    "ps_owners.show(3, truncate=False)"
   ]
  },
  {
   "cell_type": "markdown",
   "metadata": {},
   "source": [
    "## SELECT multiple columns"
   ]
  },
  {
   "cell_type": "code",
   "execution_count": 61,
   "metadata": {},
   "outputs": [
    {
     "output_type": "execute_result",
     "data": {
      "text/plain": "[('Debbie', 'Metivier'), ('John', 'Sebastian'), ('Connie', 'Pauley')]"
     },
     "metadata": {},
     "execution_count": 61
    }
   ],
   "source": [
    "# SQL\n",
    "sql = '''\n",
    "    SELECT name, surname\n",
    "    FROM owners\n",
    "    LIMIT 3\n",
    "'''\n",
    "db.fetch(sql)"
   ]
  },
  {
   "cell_type": "code",
   "execution_count": 63,
   "metadata": {},
   "outputs": [
    {
     "output_type": "execute_result",
     "data": {
      "text/plain": "     name    surname\n0  Debbie   Metivier\n1    John  Sebastian\n2  Connie     Pauley",
      "text/html": "<div>\n<style scoped>\n    .dataframe tbody tr th:only-of-type {\n        vertical-align: middle;\n    }\n\n    .dataframe tbody tr th {\n        vertical-align: top;\n    }\n\n    .dataframe thead th {\n        text-align: right;\n    }\n</style>\n<table border=\"1\" class=\"dataframe\">\n  <thead>\n    <tr style=\"text-align: right;\">\n      <th></th>\n      <th>name</th>\n      <th>surname</th>\n    </tr>\n  </thead>\n  <tbody>\n    <tr>\n      <th>0</th>\n      <td>Debbie</td>\n      <td>Metivier</td>\n    </tr>\n    <tr>\n      <th>1</th>\n      <td>John</td>\n      <td>Sebastian</td>\n    </tr>\n    <tr>\n      <th>2</th>\n      <td>Connie</td>\n      <td>Pauley</td>\n    </tr>\n  </tbody>\n</table>\n</div>"
     },
     "metadata": {},
     "execution_count": 63
    }
   ],
   "source": [
    "# Pandas\n",
    "pd_owners[['name','surname']].head(3)"
   ]
  },
  {
   "cell_type": "code",
   "execution_count": 64,
   "metadata": {},
   "outputs": [
    {
     "output_type": "stream",
     "name": "stdout",
     "text": "+------+---------+\n|  name|  surname|\n+------+---------+\n|Debbie| Metivier|\n|  John|Sebastian|\n|Connie|   Pauley|\n+------+---------+\nonly showing top 3 rows\n\n"
    }
   ],
   "source": [
    "# PySpark\n",
    "ps_owners.select('name','surname').show(3)"
   ]
  },
  {
   "cell_type": "markdown",
   "metadata": {},
   "source": [
    "## DISTINCT Clause"
   ]
  },
  {
   "cell_type": "code",
   "execution_count": 66,
   "metadata": {},
   "outputs": [
    {
     "output_type": "execute_result",
     "data": {
      "text/plain": "[('Michigan',)]"
     },
     "metadata": {},
     "execution_count": 66
    }
   ],
   "source": [
    "# SQL\n",
    "sql = '''\n",
    "    SELECT DISTINCT statefull\n",
    "    FROM owners\n",
    "'''\n",
    "db.fetch(sql)"
   ]
  },
  {
   "cell_type": "code",
   "execution_count": 67,
   "metadata": {},
   "outputs": [
    {
     "output_type": "execute_result",
     "data": {
      "text/plain": "array(['Michigan'], dtype=object)"
     },
     "metadata": {},
     "execution_count": 67
    }
   ],
   "source": [
    "# Pandas\n",
    "pd_owners['statefull'].unique()"
   ]
  },
  {
   "cell_type": "code",
   "execution_count": 68,
   "metadata": {},
   "outputs": [
    {
     "output_type": "stream",
     "name": "stdout",
     "text": "+---------+\n|statefull|\n+---------+\n| Michigan|\n+---------+\n\n"
    }
   ],
   "source": [
    "# PySpark\n",
    "ps_owners.select('statefull').distinct().show()"
   ]
  },
  {
   "cell_type": "markdown",
   "metadata": {},
   "source": [
    "## WHERE Clause"
   ]
  },
  {
   "cell_type": "code",
   "execution_count": 71,
   "metadata": {},
   "outputs": [
    {
     "output_type": "execute_result",
     "data": {
      "text/plain": "[('Jessica', 'Velazquez'),\n ('Marie', 'Floyd'),\n ('Rosa', 'Quarles'),\n ('Elizabeth', 'Griffin'),\n ('Debra', 'Robins'),\n ('Stacey', 'Randolph'),\n ('Elvia', 'Warren'),\n ('Paul', 'Haring'),\n ('Jason', 'Cantwell'),\n ('Travis', 'Bowman'),\n ('Lawrence', 'Roder'),\n ('Wm', 'Poulson'),\n ('Bruce', 'Hart'),\n ('Marion', 'Glover'),\n ('Joseph', 'Blow')]"
     },
     "metadata": {},
     "execution_count": 71
    }
   ],
   "source": [
    "# SQL\n",
    "sql = '''\n",
    "    SELECT name, surname\n",
    "    FROM owners\n",
    "    WHERE city = 'Southfield'\n",
    "'''\n",
    "db.fetch(sql)"
   ]
  },
  {
   "cell_type": "code",
   "execution_count": 72,
   "metadata": {},
   "outputs": [
    {
     "output_type": "execute_result",
     "data": {
      "text/plain": "         name    surname\n4     Jessica  Velazquez\n12      Marie      Floyd\n16       Rosa    Quarles\n17  Elizabeth    Griffin\n25      Debra     Robins\n32     Stacey   Randolph\n34      Elvia     Warren\n37       Paul     Haring\n43      Jason   Cantwell\n45     Travis     Bowman\n50   Lawrence      Roder\n59         Wm    Poulson\n63      Bruce       Hart\n81     Marion     Glover\n88     Joseph       Blow",
      "text/html": "<div>\n<style scoped>\n    .dataframe tbody tr th:only-of-type {\n        vertical-align: middle;\n    }\n\n    .dataframe tbody tr th {\n        vertical-align: top;\n    }\n\n    .dataframe thead th {\n        text-align: right;\n    }\n</style>\n<table border=\"1\" class=\"dataframe\">\n  <thead>\n    <tr style=\"text-align: right;\">\n      <th></th>\n      <th>name</th>\n      <th>surname</th>\n    </tr>\n  </thead>\n  <tbody>\n    <tr>\n      <th>4</th>\n      <td>Jessica</td>\n      <td>Velazquez</td>\n    </tr>\n    <tr>\n      <th>12</th>\n      <td>Marie</td>\n      <td>Floyd</td>\n    </tr>\n    <tr>\n      <th>16</th>\n      <td>Rosa</td>\n      <td>Quarles</td>\n    </tr>\n    <tr>\n      <th>17</th>\n      <td>Elizabeth</td>\n      <td>Griffin</td>\n    </tr>\n    <tr>\n      <th>25</th>\n      <td>Debra</td>\n      <td>Robins</td>\n    </tr>\n    <tr>\n      <th>32</th>\n      <td>Stacey</td>\n      <td>Randolph</td>\n    </tr>\n    <tr>\n      <th>34</th>\n      <td>Elvia</td>\n      <td>Warren</td>\n    </tr>\n    <tr>\n      <th>37</th>\n      <td>Paul</td>\n      <td>Haring</td>\n    </tr>\n    <tr>\n      <th>43</th>\n      <td>Jason</td>\n      <td>Cantwell</td>\n    </tr>\n    <tr>\n      <th>45</th>\n      <td>Travis</td>\n      <td>Bowman</td>\n    </tr>\n    <tr>\n      <th>50</th>\n      <td>Lawrence</td>\n      <td>Roder</td>\n    </tr>\n    <tr>\n      <th>59</th>\n      <td>Wm</td>\n      <td>Poulson</td>\n    </tr>\n    <tr>\n      <th>63</th>\n      <td>Bruce</td>\n      <td>Hart</td>\n    </tr>\n    <tr>\n      <th>81</th>\n      <td>Marion</td>\n      <td>Glover</td>\n    </tr>\n    <tr>\n      <th>88</th>\n      <td>Joseph</td>\n      <td>Blow</td>\n    </tr>\n  </tbody>\n</table>\n</div>"
     },
     "metadata": {},
     "execution_count": 72
    }
   ],
   "source": [
    "# Pandas\n",
    "pd_owners[pd_owners['city'] == 'Southfield'][['name','surname']]"
   ]
  },
  {
   "cell_type": "code",
   "execution_count": 83,
   "metadata": {},
   "outputs": [
    {
     "output_type": "stream",
     "name": "stdout",
     "text": "+---------+---------+\n|     name|  surname|\n+---------+---------+\n|  Jessica|Velazquez|\n|    Marie|    Floyd|\n|     Rosa|  Quarles|\n|Elizabeth|  Griffin|\n|    Debra|   Robins|\n|   Stacey| Randolph|\n|    Elvia|   Warren|\n|     Paul|   Haring|\n|    Jason| Cantwell|\n|   Travis|   Bowman|\n| Lawrence|    Roder|\n|       Wm|  Poulson|\n|    Bruce|     Hart|\n|   Marion|   Glover|\n|   Joseph|     Blow|\n+---------+---------+\n\n"
    }
   ],
   "source": [
    "# PySpark\n",
    "ps_owners.select('name','surname').where(ps_owners.city == 'Southfield').show()"
   ]
  },
  {
   "cell_type": "markdown",
   "metadata": {},
   "source": [
    "## LIKE Operator (beginning of text)"
   ]
  },
  {
   "cell_type": "code",
   "execution_count": 77,
   "metadata": {},
   "outputs": [
    {
     "output_type": "execute_result",
     "data": {
      "text/plain": "[('Anne',), ('Andrew',)]"
     },
     "metadata": {},
     "execution_count": 77
    }
   ],
   "source": [
    "# SQL\n",
    "sql = '''\n",
    "    SELECT name \n",
    "    FROM owners\n",
    "    WHERE name LIKE 'An%'\n",
    "'''\n",
    "db.fetch(sql)"
   ]
  },
  {
   "cell_type": "code",
   "execution_count": 80,
   "metadata": {},
   "outputs": [
    {
     "output_type": "execute_result",
     "data": {
      "text/plain": "11      Anne\n66    Andrew\nName: name, dtype: object"
     },
     "metadata": {},
     "execution_count": 80
    }
   ],
   "source": [
    "# Pandas\n",
    "pd_owners[pd_owners['name'].str.startswith('An')]['name']"
   ]
  },
  {
   "cell_type": "code",
   "execution_count": 87,
   "metadata": {},
   "outputs": [
    {
     "output_type": "stream",
     "name": "stdout",
     "text": "+------+\n|  name|\n+------+\n|  Anne|\n|Andrew|\n+------+\n\n"
    }
   ],
   "source": [
    "# PySpark\n",
    "ps_owners.select('name').where(ps_owners.name.like('An%')).show()"
   ]
  },
  {
   "cell_type": "markdown",
   "metadata": {},
   "source": [
    "## LIKE Operator (end of text)"
   ]
  },
  {
   "cell_type": "code",
   "execution_count": 89,
   "metadata": {},
   "outputs": [
    {
     "output_type": "execute_result",
     "data": {
      "text/plain": "[('Lena',), ('Edna',), ('Sabrina',)]"
     },
     "metadata": {},
     "execution_count": 89
    }
   ],
   "source": [
    "# SQL\n",
    "sql = '''\n",
    "    SELECT name \n",
    "    FROM owners\n",
    "    WHERE name LIKE '%na'\n",
    "'''\n",
    "db.fetch(sql)"
   ]
  },
  {
   "cell_type": "code",
   "execution_count": 90,
   "metadata": {},
   "outputs": [
    {
     "output_type": "execute_result",
     "data": {
      "text/plain": "3        Lena\n23       Edna\n31    Sabrina\nName: name, dtype: object"
     },
     "metadata": {},
     "execution_count": 90
    }
   ],
   "source": [
    "# Pandas\n",
    "pd_owners[pd_owners['name'].str.endswith('na')]['name']"
   ]
  },
  {
   "cell_type": "code",
   "execution_count": 91,
   "metadata": {},
   "outputs": [
    {
     "output_type": "stream",
     "name": "stdout",
     "text": "+-------+\n|   name|\n+-------+\n|   Lena|\n|   Edna|\n|Sabrina|\n+-------+\n\n"
    }
   ],
   "source": [
    "# PySpark\n",
    "ps_owners.select('name').where(ps_owners.name.like('%na')).show()"
   ]
  },
  {
   "cell_type": "markdown",
   "metadata": {},
   "source": [
    "## LIKE Operator (middle of text)"
   ]
  },
  {
   "cell_type": "code",
   "execution_count": 93,
   "metadata": {},
   "outputs": [
    {
     "output_type": "execute_result",
     "data": {
      "text/plain": "[('Karen',),\n ('Mary',),\n ('Carmen',),\n ('Marie',),\n ('Sarah',),\n ('Carolyn',),\n ('Larry',),\n ('Charles',),\n ('Charles',),\n ('Richard',),\n ('Mario',),\n ('Ricardo',),\n ('Marion',),\n ('Gary',)]"
     },
     "metadata": {},
     "execution_count": 93
    }
   ],
   "source": [
    "# SQL\n",
    "sql = '''\n",
    "    SELECT name \n",
    "    FROM owners\n",
    "    WHERE name LIKE '%ar%'\n",
    "'''\n",
    "db.fetch(sql)"
   ]
  },
  {
   "cell_type": "code",
   "execution_count": 94,
   "metadata": {},
   "outputs": [
    {
     "output_type": "execute_result",
     "data": {
      "text/plain": "7       Karen\n8        Mary\n9      Carmen\n12      Marie\n15      Sarah\n24    Carolyn\n40      Larry\n53    Charles\n56    Charles\n72    Richard\n74      Mario\n78    Ricardo\n81     Marion\n87       Gary\nName: name, dtype: object"
     },
     "metadata": {},
     "execution_count": 94
    }
   ],
   "source": [
    "# Pandas\n",
    "pd_owners[pd_owners['name'].str.contains('ar')]['name']"
   ]
  },
  {
   "cell_type": "code",
   "execution_count": 95,
   "metadata": {},
   "outputs": [
    {
     "output_type": "stream",
     "name": "stdout",
     "text": "+-------+\n|   name|\n+-------+\n|  Karen|\n|   Mary|\n| Carmen|\n|  Marie|\n|  Sarah|\n|Carolyn|\n|  Larry|\n|Charles|\n|Charles|\n|Richard|\n|  Mario|\n|Ricardo|\n| Marion|\n|   Gary|\n+-------+\n\n"
    }
   ],
   "source": [
    "# PySpark\n",
    "ps_owners.select('name').where(ps_owners.name.like('%ar%')).show()"
   ]
  },
  {
   "cell_type": "markdown",
   "metadata": {},
   "source": [
    "## NULL Values (is null)"
   ]
  },
  {
   "cell_type": "code",
   "execution_count": 104,
   "metadata": {},
   "outputs": [
    {
     "output_type": "execute_result",
     "data": {
      "text/plain": "[('315 Goff Avenue',), ('3221 Perry Street',), ('1539 Cunningham Court',)]"
     },
     "metadata": {},
     "execution_count": 104
    }
   ],
   "source": [
    "# SQL\n",
    "sql = '''\n",
    "    SELECT streetaddress\n",
    "    FROM owners\n",
    "    WHERE streetaddress IS NOT NULL\n",
    "    LIMIT 3\n",
    "'''\n",
    "db.fetch(sql)"
   ]
  },
  {
   "cell_type": "code",
   "execution_count": 106,
   "metadata": {},
   "outputs": [
    {
     "output_type": "execute_result",
     "data": {
      "text/plain": "0          315 Goff Avenue\n1        3221 Perry Street\n2    1539 Cunningham Court\nName: streetaddress, dtype: object"
     },
     "metadata": {},
     "execution_count": 106
    }
   ],
   "source": [
    "# Pandas\n",
    "pd_owners[pd_owners['streetaddress'].notnull()]['streetaddress'].head(3)"
   ]
  },
  {
   "cell_type": "code",
   "execution_count": 109,
   "metadata": {},
   "outputs": [
    {
     "output_type": "stream",
     "name": "stdout",
     "text": "+---------------------+\n|streetaddress        |\n+---------------------+\n|315 Goff Avenue      |\n|3221 Perry Street    |\n|1539 Cunningham Court|\n+---------------------+\nonly showing top 3 rows\n\n"
    }
   ],
   "source": [
    "# PySpark\n",
    "ps_owners.select('streetaddress').where(ps_owners.streetaddress.isNotNull()).show(3, truncate=False)"
   ]
  },
  {
   "cell_type": "markdown",
   "metadata": {},
   "source": [
    "## NULL Values (is null)"
   ]
  },
  {
   "cell_type": "code",
   "execution_count": 110,
   "metadata": {},
   "outputs": [
    {
     "output_type": "execute_result",
     "data": {
      "text/plain": "[]"
     },
     "metadata": {},
     "execution_count": 110
    }
   ],
   "source": [
    "# SQL\n",
    "sql = '''\n",
    "    SELECT streetaddress\n",
    "    FROM owners\n",
    "    WHERE streetaddress IS NULL\n",
    "'''\n",
    "db.fetch(sql)"
   ]
  },
  {
   "cell_type": "code",
   "execution_count": 112,
   "metadata": {},
   "outputs": [
    {
     "output_type": "execute_result",
     "data": {
      "text/plain": "Series([], Name: streetaddress, dtype: object)"
     },
     "metadata": {},
     "execution_count": 112
    }
   ],
   "source": [
    "# Pandas\n",
    "pd_owners[pd_owners['streetaddress'].isnull()]['streetaddress']"
   ]
  },
  {
   "cell_type": "code",
   "execution_count": 113,
   "metadata": {},
   "outputs": [
    {
     "output_type": "stream",
     "name": "stdout",
     "text": "+-------------+\n|streetaddress|\n+-------------+\n+-------------+\n\n"
    }
   ],
   "source": [
    "# PySpark\n",
    "ps_owners.select('streetaddress').where(ps_owners.streetaddress.isNull()).show()"
   ]
  },
  {
   "cell_type": "code",
   "execution_count": null,
   "metadata": {},
   "outputs": [],
   "source": []
  }
 ],
 "metadata": {
  "language_info": {
   "codemirror_mode": {
    "name": "ipython",
    "version": 3
   },
   "file_extension": ".py",
   "mimetype": "text/x-python",
   "name": "python",
   "nbconvert_exporter": "python",
   "pygments_lexer": "ipython3",
   "version": "3.7.0-final"
  },
  "orig_nbformat": 2,
  "kernelspec": {
   "name": "python3",
   "display_name": "Python 3"
  }
 },
 "nbformat": 4,
 "nbformat_minor": 2
}