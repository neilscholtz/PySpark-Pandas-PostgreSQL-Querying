{
 "cells": [
  {
   "cell_type": "code",
   "execution_count": 22,
   "metadata": {},
   "outputs": [],
   "source": [
    "import psycopg2\n",
    "import pandas as pd"
   ]
  },
  {
   "cell_type": "code",
   "execution_count": 102,
   "metadata": {},
   "outputs": [],
   "source": [
    "class DataBase:\n",
    "    def __init__(self, host, dbname, username, password, port):\n",
    "        self.host = host \n",
    "        self.port = port \n",
    "        self.dbname = dbname \n",
    "        self.username = username \n",
    "        self.password = password \n",
    "    \n",
    "    def __connect__(self):\n",
    "        \"\"\"Opens connector class and initiates cursor\"\"\"\n",
    "        self.con = psycopg2.connect(host=self.host, port=self.port, user=self.username, password=self.password, \n",
    "                                                 database=self.dbname) \n",
    "        self.cur = self.con.cursor()\n",
    "\n",
    "    def __disconnect__(self):\n",
    "        \"\"\"Commits any changes to the database and closes connection\"\"\"\n",
    "        self.con.commit()\n",
    "        self.con.close()\n",
    "        \n",
    "    def conn(self):\n",
    "        self.con = psycopg2.connect(host=self.host, port=self.port, user=self.username, password=self.password, \n",
    "                                                 database=self.dbname) \n",
    "        return self.con\n",
    "\n",
    "    def fetch(self, sql, variables=None):\n",
    "        \"\"\"Connects to database, fetches data specific to sql query, then disconnects from database\"\"\"\n",
    "        self.__connect__()\n",
    "        try:\n",
    "            self.cur.execute(sql, variables)\n",
    "            result = self.cur.fetchall()\n",
    "            return result\n",
    "        except Exception as e:\n",
    "            print (e)\n",
    "        finally:\n",
    "            self.__disconnect__()\n",
    "        \n",
    "\n",
    "    def execute(self, sql, variables=None):\n",
    "        \"\"\"Connects to database, executes sql query, along with any variables, then disconnects from database\"\"\"\n",
    "        self.__connect__()\n",
    "        try:\n",
    "            self.cur.execute(sql, variables)\n",
    "        except Exception as e:\n",
    "            print (e)\n",
    "        finally:\n",
    "            self.__disconnect__()\n",
    "            \n",
    "    def get_cols(self, table, details='no'):\n",
    "        data = self.fetch(\"\"\"\n",
    "                SELECT *\n",
    "          FROM information_schema.columns\n",
    "        where table_schema = 'public'\n",
    "             ;\n",
    "                \"\"\")\n",
    "        cols = []\n",
    "        if details == 'yes':\n",
    "            for i in data:\n",
    "                if i[2:][0] == table:\n",
    "                    print (i[2:][1], i[2:][5], i[2:][6])\n",
    "        else:\n",
    "            for i in data:\n",
    "                if i[2:][0] == table:\n",
    "                    cols.append(i[2:][1])\n",
    "            str_cols = ', '.join(cols)\n",
    "            return str_cols\n",
    "    \n",
    "    def get_tables(self):\n",
    "        return self.fetch('''\n",
    "            SELECT table_name\n",
    "            FROM information_schema.tables\n",
    "            WHERE table_schema = 'public'\n",
    "            ORDER BY table_name;\n",
    "            ''')"
   ]
  },
  {
   "cell_type": "markdown",
   "metadata": {},
   "source": [
    "# Connect to database"
   ]
  },
  {
   "cell_type": "code",
   "execution_count": 103,
   "metadata": {},
   "outputs": [],
   "source": [
    "username = 'postgres'\n",
    "password = 'postgres'\n",
    "host = 'boxchamp.csyqx1sutmfo.us-west-2.rds.amazonaws.com'\n",
    "dbname = 'postgres'\n",
    "port = 5432\n",
    "db = DataBase(host, dbname, username, password, port)"
   ]
  },
  {
   "cell_type": "markdown",
   "metadata": {},
   "source": [
    "# Create tables"
   ]
  },
  {
   "cell_type": "code",
   "execution_count": 105,
   "metadata": {},
   "outputs": [],
   "source": [
    "# Create pets table\n",
    "db.execute('''\n",
    "    CREATE TABLE IF NOT EXISTS pets (\n",
    "    petid varchar,\n",
    "    name varchar,\n",
    "    kind varchar,\n",
    "    gender varchar,\n",
    "    age int,\n",
    "    ownerid varchar\n",
    ")\n",
    "''')"
   ]
  },
  {
   "cell_type": "code",
   "execution_count": 106,
   "metadata": {},
   "outputs": [],
   "source": [
    "# Create owners owners\n",
    "db.execute('''\n",
    "CREATE TABLE IF NOT EXISTS owners (\n",
    "    ownerid varchar,\n",
    "    name varchar,\n",
    "    surname varchar,\n",
    "    streetaddress varchar,\n",
    "    city varchar,\n",
    "    state varchar(2),\n",
    "    statefull varchar,\n",
    "    zipcode varchar\n",
    ")\n",
    "''')"
   ]
  },
  {
   "cell_type": "code",
   "execution_count": 125,
   "metadata": {},
   "outputs": [],
   "source": [
    "# Create owners proceduredetails\n",
    "db.execute('''\n",
    "CREATE TABLE proceduresdetails (\n",
    "    proceduretype varchar,\n",
    "    proceduresubcode varchar,\n",
    "    description varchar,\n",
    "    price float\n",
    ")\n",
    "''')"
   ]
  },
  {
   "cell_type": "code",
   "execution_count": 126,
   "metadata": {},
   "outputs": [],
   "source": [
    "# Create owners prodecurehistory\n",
    "db.execute('''\n",
    "CREATE TABLE procedureshistory (\n",
    "    petid varchar,\n",
    "    proceduredate date,\n",
    "    proceduretype varchar,\n",
    "    proceduresubcode varchar\n",
    ")\n",
    "''')"
   ]
  },
  {
   "cell_type": "code",
   "execution_count": 127,
   "metadata": {
    "scrolled": true
   },
   "outputs": [
    {
     "data": {
      "text/plain": [
       "[('attendance',),\n",
       " ('class_time',),\n",
       " ('coach',),\n",
       " ('coach_schedule',),\n",
       " ('date',),\n",
       " ('lead',),\n",
       " ('member',),\n",
       " ('owners',),\n",
       " ('pets',),\n",
       " ('proceduresdetails',),\n",
       " ('procedureshistory',)]"
      ]
     },
     "execution_count": 127,
     "metadata": {},
     "output_type": "execute_result"
    }
   ],
   "source": [
    "# Check tables have been created\n",
    "db.get_tables()"
   ]
  },
  {
   "cell_type": "markdown",
   "metadata": {},
   "source": [
    "# Copy data to tables"
   ]
  },
  {
   "cell_type": "markdown",
   "metadata": {},
   "source": [
    "## With COPY statement if you have superuser rights on Postgres"
   ]
  },
  {
   "cell_type": "code",
   "execution_count": null,
   "metadata": {},
   "outputs": [],
   "source": [
    "# Copy pets data\n",
    "db.execute('''\n",
    "    COPY pets FROM 'Pets.csv' DELIMITER ',' CSV HEADER\n",
    "''')"
   ]
  },
  {
   "cell_type": "code",
   "execution_count": null,
   "metadata": {},
   "outputs": [],
   "source": [
    "# Copy owners data\n",
    "db.execute('''\n",
    "    COPY owners FROM 'Owners.csv' DELIMITER ',' CSV HEADER\n",
    "''')"
   ]
  },
  {
   "cell_type": "code",
   "execution_count": null,
   "metadata": {},
   "outputs": [],
   "source": [
    "# Copy proceduredetails data\n",
    "db.execute('''\n",
    "    COPY proceduresdetails FROM 'ProceduresDetails.csv' DELIMITER ',' CSV HEADER\n",
    "''')"
   ]
  },
  {
   "cell_type": "code",
   "execution_count": null,
   "metadata": {},
   "outputs": [],
   "source": [
    "# Copy procedurehistory data\n",
    "db.execute('''\n",
    "    COPY procedureshistory FROM 'ProceduresHistory.csv' DELIMITER ',' CSV HEADER\n",
    "''')"
   ]
  },
  {
   "cell_type": "markdown",
   "metadata": {},
   "source": [
    "## With pandas.to_csv() "
   ]
  },
  {
   "cell_type": "markdown",
   "metadata": {},
   "source": [
    "An alternative if you do not have superuser access to your Postgres database"
   ]
  },
  {
   "cell_type": "code",
   "execution_count": 133,
   "metadata": {},
   "outputs": [],
   "source": [
    "from sqlalchemy import create_engine\n",
    "engine = create_engine(f'postgresql+psycopg2://{username}:{password}@{host}:{port}/{dbname}')"
   ]
  },
  {
   "cell_type": "code",
   "execution_count": 134,
   "metadata": {},
   "outputs": [],
   "source": [
    "# Create pandas DataFrames\n",
    "pets = pd.read_csv('Pets.csv')#, dtype={'OwnerID':'object'})\n",
    "owners = pd.read_csv('Owners.csv')\n",
    "proceduresdetails = pd.read_csv('ProceduresDetails.csv')\n",
    "procedureshistory = pd.read_csv('ProceduresHistory.csv')"
   ]
  },
  {
   "cell_type": "code",
   "execution_count": 135,
   "metadata": {},
   "outputs": [],
   "source": [
    "# Rename the columns to lower case to match database column names\n",
    "pets = pets.rename(str.lower, axis='columns')\n",
    "owners = owners.rename(str.lower, axis='columns')\n",
    "proceduresdetails = proceduresdetails.rename(str.lower, axis='columns')\n",
    "procedureshistory = procedureshistory.rename(str.lower, axis='columns')"
   ]
  },
  {
   "cell_type": "code",
   "execution_count": 137,
   "metadata": {},
   "outputs": [],
   "source": [
    "# Copy data to database\n",
    "pets.to_sql('pets', engine, if_exists='append', index=False)\n",
    "owners.to_sql('owners', engine, if_exists='append', index=False)\n",
    "proceduresdetails.to_sql('proceduresdetails', engine, if_exists='append', index=False)\n",
    "procedureshistory.to_sql('procedureshistory', engine, if_exists='append', index=False)"
   ]
  },
  {
   "cell_type": "code",
   "execution_count": 138,
   "metadata": {},
   "outputs": [
    {
     "name": "stdout",
     "output_type": "stream",
     "text": [
      "100\n",
      "89\n",
      "41\n",
      "2284\n"
     ]
    }
   ],
   "source": [
    "# Verify # of records in each table\n",
    "tables = ['pets','owners','proceduresdetails','procedureshistory']\n",
    "for table in tables:\n",
    "    db_count = db.fetch(f'''\n",
    "        SELECT COUNT(*) FROM {table}\n",
    "    ''')[0][0]\n",
    "    print (db_count)"
   ]
  },
  {
   "cell_type": "code",
   "execution_count": 139,
   "metadata": {},
   "outputs": [
    {
     "name": "stdout",
     "output_type": "stream",
     "text": [
      "100\n",
      "89\n",
      "41\n",
      "2284\n"
     ]
    }
   ],
   "source": [
    "dfs = [\n",
    "    pets,\n",
    "    owners,\n",
    "    proceduresdetails,\n",
    "    procedureshistory\n",
    "    ]\n",
    "for df in dfs:\n",
    "    print (len(df))"
   ]
  },
  {
   "cell_type": "code",
   "execution_count": null,
   "metadata": {},
   "outputs": [],
   "source": []
  }
 ],
 "metadata": {
  "kernelspec": {
   "display_name": "Python 3",
   "language": "python",
   "name": "python3"
  },
  "language_info": {
   "codemirror_mode": {
    "name": "ipython",
    "version": 3
   },
   "file_extension": ".py",
   "mimetype": "text/x-python",
   "name": "python",
   "nbconvert_exporter": "python",
   "pygments_lexer": "ipython3",
   "version": "3.7.0"
  }
 },
 "nbformat": 4,
 "nbformat_minor": 2
}
