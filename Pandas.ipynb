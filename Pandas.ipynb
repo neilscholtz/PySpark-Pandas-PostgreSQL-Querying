{
 "cells": [
  {
   "cell_type": "code",
   "execution_count": 23,
   "metadata": {},
   "outputs": [],
   "source": [
    "import pandas as pd"
   ]
  },
  {
   "cell_type": "code",
   "execution_count": 24,
   "metadata": {},
   "outputs": [],
   "source": [
    "# Create pandas DataFrames\n",
    "pets = pd.read_csv('Pets.csv', dtype={'OwnerID':'object'})\n",
    "owners = pd.read_csv('Owners.csv', dtype={'OwnerID':'object', 'ZipCode':'object'})\n",
    "proceduresdetails = pd.read_csv('ProceduresDetails.csv', dtype={'ProcedureSubCode':'object'})\n",
    "procedureshistory = pd.read_csv('ProceduresHistory.csv', parse_dates=['ProcedureDate'], dtype={'ProcedureSubCode':'object'})"
   ]
  },
  {
   "cell_type": "code",
   "execution_count": 25,
   "metadata": {},
   "outputs": [],
   "source": [
    "# Rename the columns to lower case to match database column names\n",
    "pets = pets.rename(str.lower, axis='columns')\n",
    "owners = owners.rename(str.lower, axis='columns')\n",
    "proceduresdetails = proceduresdetails.rename(str.lower, axis='columns')\n",
    "procedureshistory = procedureshistory.rename(str.lower, axis='columns')"
   ]
  },
  {
   "cell_type": "code",
   "execution_count": 26,
   "metadata": {},
   "outputs": [
    {
     "name": "stdout",
     "output_type": "stream",
     "text": [
      "petid      object\n",
      "name       object\n",
      "kind       object\n",
      "gender     object\n",
      "age         int64\n",
      "ownerid    object\n",
      "dtype: object\n",
      "---------------\n",
      "ownerid          object\n",
      "name             object\n",
      "surname          object\n",
      "streetaddress    object\n",
      "city             object\n",
      "state            object\n",
      "statefull        object\n",
      "zipcode          object\n",
      "dtype: object\n",
      "---------------\n",
      "proceduretype       object\n",
      "proceduresubcode    object\n",
      "description         object\n",
      "price                int64\n",
      "dtype: object\n",
      "---------------\n",
      "petid                       object\n",
      "proceduredate       datetime64[ns]\n",
      "proceduretype               object\n",
      "proceduresubcode            object\n",
      "dtype: object\n"
     ]
    }
   ],
   "source": [
    "# ensure all data types are correct\n",
    "print (pets.dtypes)\n",
    "print ('---------------')\n",
    "print (owners.dtypes)\n",
    "print ('---------------')\n",
    "print (proceduresdetails.dtypes)\n",
    "print ('---------------')\n",
    "print (procedureshistory.dtypes)"
   ]
  },
  {
   "cell_type": "code",
   "execution_count": null,
   "metadata": {},
   "outputs": [],
   "source": []
  }
 ],
 "metadata": {
  "kernelspec": {
   "display_name": "Python 3",
   "language": "python",
   "name": "python3"
  },
  "language_info": {
   "codemirror_mode": {
    "name": "ipython",
    "version": 3
   },
   "file_extension": ".py",
   "mimetype": "text/x-python",
   "name": "python",
   "nbconvert_exporter": "python",
   "pygments_lexer": "ipython3",
   "version": "3.7.0"
  }
 },
 "nbformat": 4,
 "nbformat_minor": 2
}
