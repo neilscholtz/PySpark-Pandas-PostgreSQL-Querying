{
 "cells": [
  {
   "cell_type": "code",
   "execution_count": 1,
   "metadata": {},
   "outputs": [],
   "source": [
    "import pandas as pd"
   ]
  },
  {
   "cell_type": "code",
   "execution_count": 2,
   "metadata": {},
   "outputs": [],
   "source": [
    "# Create pandas DataFrames\n",
    "pets = pd.read_csv('data/Pets.csv', dtype={'OwnerID':'object'})\n",
    "owners = pd.read_csv('data/Owners.csv', dtype={'OwnerID':'object', 'ZipCode':'object'})\n",
    "proceduresdetails = pd.read_csv('data/ProceduresDetails.csv', dtype={'ProcedureSubCode':'object'})\n",
    "procedureshistory = pd.read_csv('data/ProceduresHistory.csv', parse_dates=['ProcedureDate'], dtype={'ProcedureSubCode':'object'})"
   ]
  },
  {
   "cell_type": "code",
   "execution_count": 3,
   "metadata": {},
   "outputs": [],
   "source": [
    "# Rename the columns to lower case to match database column names\n",
    "pets = pets.rename(str.lower, axis='columns')\n",
    "owners = owners.rename(str.lower, axis='columns')\n",
    "proceduresdetails = proceduresdetails.rename(str.lower, axis='columns')\n",
    "procedureshistory = procedureshistory.rename(str.lower, axis='columns')"
   ]
  },
  {
   "cell_type": "code",
   "execution_count": 4,
   "metadata": {},
   "outputs": [
    {
     "output_type": "stream",
     "name": "stdout",
     "text": "petid      object\nname       object\nkind       object\ngender     object\nage         int64\nownerid    object\ndtype: object\n---------------\nownerid          object\nname             object\nsurname          object\nstreetaddress    object\ncity             object\nstate            object\nstatefull        object\nzipcode          object\ndtype: object\n---------------\nproceduretype       object\nproceduresubcode    object\ndescription         object\nprice                int64\ndtype: object\n---------------\npetid                       object\nproceduredate       datetime64[ns]\nproceduretype               object\nproceduresubcode            object\ndtype: object\n"
    }
   ],
   "source": [
    "# ensure all data types are correct\n",
    "print (pets.dtypes)\n",
    "print ('---------------')\n",
    "print (owners.dtypes)\n",
    "print ('---------------')\n",
    "print (proceduresdetails.dtypes)\n",
    "print ('---------------')\n",
    "print (procedureshistory.dtypes)"
   ]
  },
  {
   "cell_type": "code",
   "execution_count": null,
   "metadata": {},
   "outputs": [],
   "source": []
  }
 ],
 "metadata": {
  "kernelspec": {
   "display_name": "Python 3",
   "language": "python",
   "name": "python3"
  },
  "language_info": {
   "codemirror_mode": {
    "name": "ipython",
    "version": 3
   },
   "file_extension": ".py",
   "mimetype": "text/x-python",
   "name": "python",
   "nbconvert_exporter": "python",
   "pygments_lexer": "ipython3",
   "version": "3.7.0-final"
  }
 },
 "nbformat": 4,
 "nbformat_minor": 2
}